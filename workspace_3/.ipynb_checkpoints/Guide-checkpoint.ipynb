{
 "cells": [
  {
   "cell_type": "markdown",
   "metadata": {
    "editable": true,
    "ulab": {
     "buttons": {
      "ulab-button-341c8451": {
       "bashCommand": "/home/workspace/startup/startup.sh",
       "filesToOpen": [],
       "isPreviewButton": false,
       "runInBackground": false,
       "style": "primary",
       "text": "Start Kafka",
       "toggleOffText": "HIDE SOLUTION",
       "toggleOnText": "SHOW SOLUTION"
      }
     }
    }
   },
   "source": [
    "# Join streaming dataframes from different sources\n",
    "\n",
    "- Click the button to start Kafka and Banking Simulation: <button id=\"ulab-button-341c8451\" class=\"ulab-btn--primary\"></button>\n",
    "- Start the spark master and spark worker\n",
    "     - From the terminal type: ```/home/workspace/spark/sbin/start-master.sh```\n",
    "     - View the log and copy down the Spark URI\n",
    "     - From the terminal type: ```/home/workspace/spark/sbin/start-slave.sh [Spark URI]```\n",
    "- Complete the customer-deposits.py python script\n",
    "- Submit the application to the spark cluster:\n",
    "     - From the terminal type: \n",
    "     ```/home/workspace/submit-customer-deposits.sh```\n",
    "- Watch the terminal for the values to scroll past\n",
    "    "
   ]
  }
 ],
 "metadata": {
  "kernelspec": {
   "display_name": "Python 3",
   "language": "python",
   "name": "python3"
  },
  "language_info": {
   "codemirror_mode": {
    "name": "ipython",
    "version": 3
   },
   "file_extension": ".py",
   "mimetype": "text/x-python",
   "name": "python",
   "nbconvert_exporter": "python",
   "pygments_lexer": "ipython3",
   "version": "3.7.3"
  }
 },
 "nbformat": 4,
 "nbformat_minor": 4
}
